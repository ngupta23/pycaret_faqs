{
  "cells": [
    {
      "cell_type": "code",
      "execution_count": 1,
      "metadata": {
        "colab": {
          "base_uri": "https://localhost:8080/"
        },
        "id": "2TQKjCOlNnEF",
        "outputId": "22273131-7078-40a9-e848-d514cc8eb759"
      },
      "outputs": [],
      "source": [
        "# try:\n",
        "#   import pycaret\n",
        "# except:\n",
        "#    !pip install pycaret-ts-alpha"
      ]
    },
    {
      "cell_type": "code",
      "execution_count": 2,
      "metadata": {
        "colab": {
          "base_uri": "https://localhost:8080/"
        },
        "id": "D4H4OQplNxB7",
        "outputId": "89589239-a51a-477a-a804-101fa20ed007"
      },
      "outputs": [],
      "source": [
        "from pycaret.datasets import  get_data\n",
        "from pycaret.internal.pycaret_experiment import TimeSeriesExperiment"
      ]
    },
    {
      "cell_type": "code",
      "execution_count": 3,
      "metadata": {
        "colab": {
          "base_uri": "https://localhost:8080/",
          "height": 139
        },
        "id": "6dGg2a8_N7tE",
        "outputId": "b8e7a42e-a5a2-429b-f972-d142a60894f3"
      },
      "outputs": [
        {
          "data": {
            "text/plain": [
              "Period\n",
              "1949-01    112.0\n",
              "1949-02    118.0\n",
              "1949-03    132.0\n",
              "1949-04    129.0\n",
              "1949-05    121.0\n",
              "Freq: M, Name: Number of airline passengers, dtype: float64"
            ]
          },
          "metadata": {},
          "output_type": "display_data"
        }
      ],
      "source": [
        "y = get_data(\"airline\")"
      ]
    },
    {
      "cell_type": "code",
      "execution_count": 4,
      "metadata": {
        "id": "sbsf__89OfYQ"
      },
      "outputs": [],
      "source": [
        "exp = TimeSeriesExperiment()"
      ]
    },
    {
      "cell_type": "markdown",
      "metadata": {},
      "source": [
        "## Default MLFlow Logging"
      ]
    },
    {
      "cell_type": "code",
      "execution_count": 5,
      "metadata": {
        "colab": {
          "base_uri": "https://localhost:8080/",
          "height": 694,
          "referenced_widgets": [
            "eae4f4129e924fe3be54af7d5ad744fa",
            "6b98328c45b14636bfeea7eae5c579f4",
            "82c6e8188aa64af49694b5cdb62f5f1a"
          ]
        },
        "id": "EIZSeVYDN_D5",
        "outputId": "0c7dff29-2f54-4c17-cfc3-b679983a4f25"
      },
      "outputs": [
        {
          "data": {
            "text/html": [
              "<style type=\"text/css\">\n",
              "#T_14ae5_row9_col1, #T_14ae5_row10_col1, #T_14ae5_row12_col1, #T_14ae5_row13_col1, #T_14ae5_row16_col1 {\n",
              "  background-color: lightgreen;\n",
              "}\n",
              "</style>\n",
              "<table id=\"T_14ae5_\">\n",
              "  <thead>\n",
              "    <tr>\n",
              "      <th class=\"blank level0\" >&nbsp;</th>\n",
              "      <th class=\"col_heading level0 col0\" >Description</th>\n",
              "      <th class=\"col_heading level0 col1\" >Value</th>\n",
              "    </tr>\n",
              "  </thead>\n",
              "  <tbody>\n",
              "    <tr>\n",
              "      <th id=\"T_14ae5_level0_row0\" class=\"row_heading level0 row0\" >0</th>\n",
              "      <td id=\"T_14ae5_row0_col0\" class=\"data row0 col0\" >session_id</td>\n",
              "      <td id=\"T_14ae5_row0_col1\" class=\"data row0 col1\" >42</td>\n",
              "    </tr>\n",
              "    <tr>\n",
              "      <th id=\"T_14ae5_level0_row1\" class=\"row_heading level0 row1\" >1</th>\n",
              "      <td id=\"T_14ae5_row1_col0\" class=\"data row1 col0\" >Original Data</td>\n",
              "      <td id=\"T_14ae5_row1_col1\" class=\"data row1 col1\" >(144, 1)</td>\n",
              "    </tr>\n",
              "    <tr>\n",
              "      <th id=\"T_14ae5_level0_row2\" class=\"row_heading level0 row2\" >2</th>\n",
              "      <td id=\"T_14ae5_row2_col0\" class=\"data row2 col0\" >Missing Values</td>\n",
              "      <td id=\"T_14ae5_row2_col1\" class=\"data row2 col1\" >False</td>\n",
              "    </tr>\n",
              "    <tr>\n",
              "      <th id=\"T_14ae5_level0_row3\" class=\"row_heading level0 row3\" >3</th>\n",
              "      <td id=\"T_14ae5_row3_col0\" class=\"data row3 col0\" >Transformed Train Set</td>\n",
              "      <td id=\"T_14ae5_row3_col1\" class=\"data row3 col1\" >(132,)</td>\n",
              "    </tr>\n",
              "    <tr>\n",
              "      <th id=\"T_14ae5_level0_row4\" class=\"row_heading level0 row4\" >4</th>\n",
              "      <td id=\"T_14ae5_row4_col0\" class=\"data row4 col0\" >Transformed Test Set</td>\n",
              "      <td id=\"T_14ae5_row4_col1\" class=\"data row4 col1\" >(12,)</td>\n",
              "    </tr>\n",
              "    <tr>\n",
              "      <th id=\"T_14ae5_level0_row5\" class=\"row_heading level0 row5\" >5</th>\n",
              "      <td id=\"T_14ae5_row5_col0\" class=\"data row5 col0\" >Fold Generator</td>\n",
              "      <td id=\"T_14ae5_row5_col1\" class=\"data row5 col1\" >ExpandingWindowSplitter</td>\n",
              "    </tr>\n",
              "    <tr>\n",
              "      <th id=\"T_14ae5_level0_row6\" class=\"row_heading level0 row6\" >6</th>\n",
              "      <td id=\"T_14ae5_row6_col0\" class=\"data row6 col0\" >Fold Number</td>\n",
              "      <td id=\"T_14ae5_row6_col1\" class=\"data row6 col1\" >3</td>\n",
              "    </tr>\n",
              "    <tr>\n",
              "      <th id=\"T_14ae5_level0_row7\" class=\"row_heading level0 row7\" >7</th>\n",
              "      <td id=\"T_14ae5_row7_col0\" class=\"data row7 col0\" >Enforce Prediction Interval</td>\n",
              "      <td id=\"T_14ae5_row7_col1\" class=\"data row7 col1\" >False</td>\n",
              "    </tr>\n",
              "    <tr>\n",
              "      <th id=\"T_14ae5_level0_row8\" class=\"row_heading level0 row8\" >8</th>\n",
              "      <td id=\"T_14ae5_row8_col0\" class=\"data row8 col0\" >Seasonal Period Tested</td>\n",
              "      <td id=\"T_14ae5_row8_col1\" class=\"data row8 col1\" >12</td>\n",
              "    </tr>\n",
              "    <tr>\n",
              "      <th id=\"T_14ae5_level0_row9\" class=\"row_heading level0 row9\" >9</th>\n",
              "      <td id=\"T_14ae5_row9_col0\" class=\"data row9 col0\" >Seasonality Detected</td>\n",
              "      <td id=\"T_14ae5_row9_col1\" class=\"data row9 col1\" >True</td>\n",
              "    </tr>\n",
              "    <tr>\n",
              "      <th id=\"T_14ae5_level0_row10\" class=\"row_heading level0 row10\" >10</th>\n",
              "      <td id=\"T_14ae5_row10_col0\" class=\"data row10 col0\" >Target Strictly Positive</td>\n",
              "      <td id=\"T_14ae5_row10_col1\" class=\"data row10 col1\" >True</td>\n",
              "    </tr>\n",
              "    <tr>\n",
              "      <th id=\"T_14ae5_level0_row11\" class=\"row_heading level0 row11\" >11</th>\n",
              "      <td id=\"T_14ae5_row11_col0\" class=\"data row11 col0\" >Target White Noise</td>\n",
              "      <td id=\"T_14ae5_row11_col1\" class=\"data row11 col1\" >No</td>\n",
              "    </tr>\n",
              "    <tr>\n",
              "      <th id=\"T_14ae5_level0_row12\" class=\"row_heading level0 row12\" >12</th>\n",
              "      <td id=\"T_14ae5_row12_col0\" class=\"data row12 col0\" >Recommended d</td>\n",
              "      <td id=\"T_14ae5_row12_col1\" class=\"data row12 col1\" >1</td>\n",
              "    </tr>\n",
              "    <tr>\n",
              "      <th id=\"T_14ae5_level0_row13\" class=\"row_heading level0 row13\" >13</th>\n",
              "      <td id=\"T_14ae5_row13_col0\" class=\"data row13 col0\" >Recommended Seasonal D</td>\n",
              "      <td id=\"T_14ae5_row13_col1\" class=\"data row13 col1\" >1</td>\n",
              "    </tr>\n",
              "    <tr>\n",
              "      <th id=\"T_14ae5_level0_row14\" class=\"row_heading level0 row14\" >14</th>\n",
              "      <td id=\"T_14ae5_row14_col0\" class=\"data row14 col0\" >CPU Jobs</td>\n",
              "      <td id=\"T_14ae5_row14_col1\" class=\"data row14 col1\" >-1</td>\n",
              "    </tr>\n",
              "    <tr>\n",
              "      <th id=\"T_14ae5_level0_row15\" class=\"row_heading level0 row15\" >15</th>\n",
              "      <td id=\"T_14ae5_row15_col0\" class=\"data row15 col0\" >Use GPU</td>\n",
              "      <td id=\"T_14ae5_row15_col1\" class=\"data row15 col1\" >False</td>\n",
              "    </tr>\n",
              "    <tr>\n",
              "      <th id=\"T_14ae5_level0_row16\" class=\"row_heading level0 row16\" >16</th>\n",
              "      <td id=\"T_14ae5_row16_col0\" class=\"data row16 col0\" >Log Experiment</td>\n",
              "      <td id=\"T_14ae5_row16_col1\" class=\"data row16 col1\" >True</td>\n",
              "    </tr>\n",
              "    <tr>\n",
              "      <th id=\"T_14ae5_level0_row17\" class=\"row_heading level0 row17\" >17</th>\n",
              "      <td id=\"T_14ae5_row17_col0\" class=\"data row17 col0\" >Experiment Name</td>\n",
              "      <td id=\"T_14ae5_row17_col1\" class=\"data row17 col1\" >my_exp</td>\n",
              "    </tr>\n",
              "    <tr>\n",
              "      <th id=\"T_14ae5_level0_row18\" class=\"row_heading level0 row18\" >18</th>\n",
              "      <td id=\"T_14ae5_row18_col0\" class=\"data row18 col0\" >USI</td>\n",
              "      <td id=\"T_14ae5_row18_col1\" class=\"data row18 col1\" >e77b</td>\n",
              "    </tr>\n",
              "    <tr>\n",
              "      <th id=\"T_14ae5_level0_row19\" class=\"row_heading level0 row19\" >19</th>\n",
              "      <td id=\"T_14ae5_row19_col0\" class=\"data row19 col0\" >Imputation Type</td>\n",
              "      <td id=\"T_14ae5_row19_col1\" class=\"data row19 col1\" >simple</td>\n",
              "    </tr>\n",
              "  </tbody>\n",
              "</table>\n"
            ],
            "text/plain": [
              "<pandas.io.formats.style.Styler at 0x1ebd2360df0>"
            ]
          },
          "metadata": {},
          "output_type": "display_data"
        },
        {
          "data": {
            "text/plain": [
              "<pycaret.internal.pycaret_experiment.time_series_experiment.TimeSeriesExperiment at 0x1ebfb13bc70>"
            ]
          },
          "execution_count": 5,
          "metadata": {},
          "output_type": "execute_result"
        }
      ],
      "source": [
        "#### Setup experiment with MLFlow logging ----\n",
        "exp.setup(\n",
        "    data=y,\n",
        "    fh=12,\n",
        "    session_id=42,\n",
        "    log_experiment=True,\n",
        "    experiment_name=\"my_exp\",\n",
        "  )"
      ]
    },
    {
      "cell_type": "code",
      "execution_count": 6,
      "metadata": {
        "colab": {
          "base_uri": "https://localhost:8080/"
        },
        "id": "_hqUKfaSOtVg",
        "outputId": "addefa01-4792-4d54-92f5-bcfe7404970c"
      },
      "outputs": [],
      "source": [
        "## Run from terminal that has the python/anaconda environment.\n",
        "## Alternately, run from notebook as below\n",
        "## Web browser must be accessible to see results.\n",
        "# !mlflow ui"
      ]
    },
    {
      "cell_type": "code",
      "execution_count": 7,
      "metadata": {
        "colab": {
          "base_uri": "https://localhost:8080/",
          "height": 206,
          "referenced_widgets": [
            "623796bf3be44d30bc93902db1f4d71c",
            "9edd650654f8454e9e166bf49434db30",
            "afd85029fd804d7ba2fd3731f3bed4b6"
          ]
        },
        "id": "r6Q5ORjPOvNo",
        "outputId": "6cd20c47-add7-46c0-f061-c5e792a1cbfd"
      },
      "outputs": [
        {
          "data": {
            "text/html": [
              "<style type=\"text/css\">\n",
              "#T_0db45_row3_col0, #T_0db45_row3_col1, #T_0db45_row3_col2, #T_0db45_row3_col3, #T_0db45_row3_col4, #T_0db45_row3_col5 {\n",
              "  background: yellow;\n",
              "}\n",
              "</style>\n",
              "<table id=\"T_0db45_\">\n",
              "  <thead>\n",
              "    <tr>\n",
              "      <th class=\"blank level0\" >&nbsp;</th>\n",
              "      <th class=\"col_heading level0 col0\" >cutoff</th>\n",
              "      <th class=\"col_heading level0 col1\" >MAE</th>\n",
              "      <th class=\"col_heading level0 col2\" >RMSE</th>\n",
              "      <th class=\"col_heading level0 col3\" >MAPE</th>\n",
              "      <th class=\"col_heading level0 col4\" >SMAPE</th>\n",
              "      <th class=\"col_heading level0 col5\" >R2</th>\n",
              "    </tr>\n",
              "  </thead>\n",
              "  <tbody>\n",
              "    <tr>\n",
              "      <th id=\"T_0db45_level0_row0\" class=\"row_heading level0 row0\" >0</th>\n",
              "      <td id=\"T_0db45_row0_col0\" class=\"data row0 col0\" >1956-12</td>\n",
              "      <td id=\"T_0db45_row0_col1\" class=\"data row0 col1\" >38.6824</td>\n",
              "      <td id=\"T_0db45_row0_col2\" class=\"data row0 col2\" >45.0820</td>\n",
              "      <td id=\"T_0db45_row0_col3\" class=\"data row0 col3\" >0.0998</td>\n",
              "      <td id=\"T_0db45_row0_col4\" class=\"data row0 col4\" >0.1051</td>\n",
              "      <td id=\"T_0db45_row0_col5\" class=\"data row0 col5\" >0.3384</td>\n",
              "    </tr>\n",
              "    <tr>\n",
              "      <th id=\"T_0db45_level0_row1\" class=\"row_heading level0 row1\" >1</th>\n",
              "      <td id=\"T_0db45_row1_col0\" class=\"data row1 col0\" >1957-12</td>\n",
              "      <td id=\"T_0db45_row1_col1\" class=\"data row1 col1\" >28.0608</td>\n",
              "      <td id=\"T_0db45_row1_col2\" class=\"data row1 col2\" >34.6867</td>\n",
              "      <td id=\"T_0db45_row1_col3\" class=\"data row1 col3\" >0.0751</td>\n",
              "      <td id=\"T_0db45_row1_col4\" class=\"data row1 col4\" >0.0734</td>\n",
              "      <td id=\"T_0db45_row1_col5\" class=\"data row1 col5\" >0.6848</td>\n",
              "    </tr>\n",
              "    <tr>\n",
              "      <th id=\"T_0db45_level0_row2\" class=\"row_heading level0 row2\" >2</th>\n",
              "      <td id=\"T_0db45_row2_col0\" class=\"data row2 col0\" >1958-12</td>\n",
              "      <td id=\"T_0db45_row2_col1\" class=\"data row2 col1\" >32.1693</td>\n",
              "      <td id=\"T_0db45_row2_col2\" class=\"data row2 col2\" >38.2681</td>\n",
              "      <td id=\"T_0db45_row2_col3\" class=\"data row2 col3\" >0.0737</td>\n",
              "      <td id=\"T_0db45_row2_col4\" class=\"data row2 col4\" >0.0753</td>\n",
              "      <td id=\"T_0db45_row2_col5\" class=\"data row2 col5\" >0.6724</td>\n",
              "    </tr>\n",
              "    <tr>\n",
              "      <th id=\"T_0db45_level0_row3\" class=\"row_heading level0 row3\" >Mean</th>\n",
              "      <td id=\"T_0db45_row3_col0\" class=\"data row3 col0\" >NaT</td>\n",
              "      <td id=\"T_0db45_row3_col1\" class=\"data row3 col1\" >32.9708</td>\n",
              "      <td id=\"T_0db45_row3_col2\" class=\"data row3 col2\" >39.3456</td>\n",
              "      <td id=\"T_0db45_row3_col3\" class=\"data row3 col3\" >0.0828</td>\n",
              "      <td id=\"T_0db45_row3_col4\" class=\"data row3 col4\" >0.0846</td>\n",
              "      <td id=\"T_0db45_row3_col5\" class=\"data row3 col5\" >0.5652</td>\n",
              "    </tr>\n",
              "    <tr>\n",
              "      <th id=\"T_0db45_level0_row4\" class=\"row_heading level0 row4\" >SD</th>\n",
              "      <td id=\"T_0db45_row4_col0\" class=\"data row4 col0\" >NaT</td>\n",
              "      <td id=\"T_0db45_row4_col1\" class=\"data row4 col1\" >4.3731</td>\n",
              "      <td id=\"T_0db45_row4_col2\" class=\"data row4 col2\" >4.3117</td>\n",
              "      <td id=\"T_0db45_row4_col3\" class=\"data row4 col3\" >0.0120</td>\n",
              "      <td id=\"T_0db45_row4_col4\" class=\"data row4 col4\" >0.0145</td>\n",
              "      <td id=\"T_0db45_row4_col5\" class=\"data row4 col5\" >0.1604</td>\n",
              "    </tr>\n",
              "  </tbody>\n",
              "</table>\n"
            ],
            "text/plain": [
              "<pandas.io.formats.style.Styler at 0x1ebd27bad30>"
            ]
          },
          "metadata": {},
          "output_type": "display_data"
        }
      ],
      "source": [
        "#### Create a model ----\n",
        "model = exp.create_model(\"lr_cds_dt\")"
      ]
    },
    {
      "cell_type": "code",
      "execution_count": 8,
      "metadata": {},
      "outputs": [
        {
          "data": {
            "text/html": [
              "<style type=\"text/css\">\n",
              "</style>\n",
              "<table id=\"T_013e9_\">\n",
              "  <thead>\n",
              "    <tr>\n",
              "      <th class=\"blank level0\" >&nbsp;</th>\n",
              "      <th class=\"col_heading level0 col0\" >Model</th>\n",
              "      <th class=\"col_heading level0 col1\" >MAE</th>\n",
              "      <th class=\"col_heading level0 col2\" >RMSE</th>\n",
              "      <th class=\"col_heading level0 col3\" >MAPE</th>\n",
              "      <th class=\"col_heading level0 col4\" >SMAPE</th>\n",
              "      <th class=\"col_heading level0 col5\" >R2</th>\n",
              "    </tr>\n",
              "  </thead>\n",
              "  <tbody>\n",
              "    <tr>\n",
              "      <th id=\"T_013e9_level0_row0\" class=\"row_heading level0 row0\" >0</th>\n",
              "      <td id=\"T_013e9_row0_col0\" class=\"data row0 col0\" >LinearRegression</td>\n",
              "      <td id=\"T_013e9_row0_col1\" class=\"data row0 col1\" >47.7429</td>\n",
              "      <td id=\"T_013e9_row0_col2\" class=\"data row0 col2\" >55.0154</td>\n",
              "      <td id=\"T_013e9_row0_col3\" class=\"data row0 col3\" >0.0965</td>\n",
              "      <td id=\"T_013e9_row0_col4\" class=\"data row0 col4\" >0.1005</td>\n",
              "      <td id=\"T_013e9_row0_col5\" class=\"data row0 col5\" >0.4536</td>\n",
              "    </tr>\n",
              "  </tbody>\n",
              "</table>\n"
            ],
            "text/plain": [
              "<pandas.io.formats.style.Styler at 0x1ebd48269a0>"
            ]
          },
          "metadata": {},
          "output_type": "display_data"
        },
        {
          "data": {
            "text/plain": [
              "1960-01    433.1925\n",
              "1960-02    414.2470\n",
              "1960-03    394.9755\n",
              "1960-04    374.2084\n",
              "1960-05    431.2220\n",
              "1960-06    493.9331\n",
              "1960-07    527.8974\n",
              "1960-08    512.4796\n",
              "1960-09    456.4409\n",
              "1960-10    436.8202\n",
              "1960-11    439.0850\n",
              "1960-12    460.3670\n",
              "Freq: M, Name: Number of airline passengers, dtype: float64"
            ]
          },
          "execution_count": 8,
          "metadata": {},
          "output_type": "execute_result"
        }
      ],
      "source": [
        "#### Make predictions on holdout set ----\n",
        "exp.predict_model(model)"
      ]
    },
    {
      "cell_type": "markdown",
      "metadata": {},
      "source": [
        "## MLFlow Logging with Plots"
      ]
    },
    {
      "cell_type": "code",
      "execution_count": 9,
      "metadata": {
        "colab": {
          "base_uri": "https://localhost:8080/",
          "height": 865,
          "referenced_widgets": [
            "52a6cd0b2d6e47da8f6380c71a2da659",
            "5c2aac9ff2a34991a13c8be699b301a7",
            "cd34c156684747b19010fd4d4f41fd3a"
          ]
        },
        "id": "5eBRD9OJPBpr",
        "outputId": "17eae5c5-fcc3-469f-d550-ff4319b7d0e7"
      },
      "outputs": [
        {
          "data": {
            "text/html": [
              "<style type=\"text/css\">\n",
              "#T_5b15b_row9_col1, #T_5b15b_row10_col1, #T_5b15b_row12_col1, #T_5b15b_row13_col1, #T_5b15b_row16_col1 {\n",
              "  background-color: lightgreen;\n",
              "}\n",
              "</style>\n",
              "<table id=\"T_5b15b_\">\n",
              "  <thead>\n",
              "    <tr>\n",
              "      <th class=\"blank level0\" >&nbsp;</th>\n",
              "      <th class=\"col_heading level0 col0\" >Description</th>\n",
              "      <th class=\"col_heading level0 col1\" >Value</th>\n",
              "    </tr>\n",
              "  </thead>\n",
              "  <tbody>\n",
              "    <tr>\n",
              "      <th id=\"T_5b15b_level0_row0\" class=\"row_heading level0 row0\" >0</th>\n",
              "      <td id=\"T_5b15b_row0_col0\" class=\"data row0 col0\" >session_id</td>\n",
              "      <td id=\"T_5b15b_row0_col1\" class=\"data row0 col1\" >42</td>\n",
              "    </tr>\n",
              "    <tr>\n",
              "      <th id=\"T_5b15b_level0_row1\" class=\"row_heading level0 row1\" >1</th>\n",
              "      <td id=\"T_5b15b_row1_col0\" class=\"data row1 col0\" >Original Data</td>\n",
              "      <td id=\"T_5b15b_row1_col1\" class=\"data row1 col1\" >(144, 1)</td>\n",
              "    </tr>\n",
              "    <tr>\n",
              "      <th id=\"T_5b15b_level0_row2\" class=\"row_heading level0 row2\" >2</th>\n",
              "      <td id=\"T_5b15b_row2_col0\" class=\"data row2 col0\" >Missing Values</td>\n",
              "      <td id=\"T_5b15b_row2_col1\" class=\"data row2 col1\" >False</td>\n",
              "    </tr>\n",
              "    <tr>\n",
              "      <th id=\"T_5b15b_level0_row3\" class=\"row_heading level0 row3\" >3</th>\n",
              "      <td id=\"T_5b15b_row3_col0\" class=\"data row3 col0\" >Transformed Train Set</td>\n",
              "      <td id=\"T_5b15b_row3_col1\" class=\"data row3 col1\" >(132,)</td>\n",
              "    </tr>\n",
              "    <tr>\n",
              "      <th id=\"T_5b15b_level0_row4\" class=\"row_heading level0 row4\" >4</th>\n",
              "      <td id=\"T_5b15b_row4_col0\" class=\"data row4 col0\" >Transformed Test Set</td>\n",
              "      <td id=\"T_5b15b_row4_col1\" class=\"data row4 col1\" >(12,)</td>\n",
              "    </tr>\n",
              "    <tr>\n",
              "      <th id=\"T_5b15b_level0_row5\" class=\"row_heading level0 row5\" >5</th>\n",
              "      <td id=\"T_5b15b_row5_col0\" class=\"data row5 col0\" >Fold Generator</td>\n",
              "      <td id=\"T_5b15b_row5_col1\" class=\"data row5 col1\" >ExpandingWindowSplitter</td>\n",
              "    </tr>\n",
              "    <tr>\n",
              "      <th id=\"T_5b15b_level0_row6\" class=\"row_heading level0 row6\" >6</th>\n",
              "      <td id=\"T_5b15b_row6_col0\" class=\"data row6 col0\" >Fold Number</td>\n",
              "      <td id=\"T_5b15b_row6_col1\" class=\"data row6 col1\" >3</td>\n",
              "    </tr>\n",
              "    <tr>\n",
              "      <th id=\"T_5b15b_level0_row7\" class=\"row_heading level0 row7\" >7</th>\n",
              "      <td id=\"T_5b15b_row7_col0\" class=\"data row7 col0\" >Enforce Prediction Interval</td>\n",
              "      <td id=\"T_5b15b_row7_col1\" class=\"data row7 col1\" >False</td>\n",
              "    </tr>\n",
              "    <tr>\n",
              "      <th id=\"T_5b15b_level0_row8\" class=\"row_heading level0 row8\" >8</th>\n",
              "      <td id=\"T_5b15b_row8_col0\" class=\"data row8 col0\" >Seasonal Period Tested</td>\n",
              "      <td id=\"T_5b15b_row8_col1\" class=\"data row8 col1\" >12</td>\n",
              "    </tr>\n",
              "    <tr>\n",
              "      <th id=\"T_5b15b_level0_row9\" class=\"row_heading level0 row9\" >9</th>\n",
              "      <td id=\"T_5b15b_row9_col0\" class=\"data row9 col0\" >Seasonality Detected</td>\n",
              "      <td id=\"T_5b15b_row9_col1\" class=\"data row9 col1\" >True</td>\n",
              "    </tr>\n",
              "    <tr>\n",
              "      <th id=\"T_5b15b_level0_row10\" class=\"row_heading level0 row10\" >10</th>\n",
              "      <td id=\"T_5b15b_row10_col0\" class=\"data row10 col0\" >Target Strictly Positive</td>\n",
              "      <td id=\"T_5b15b_row10_col1\" class=\"data row10 col1\" >True</td>\n",
              "    </tr>\n",
              "    <tr>\n",
              "      <th id=\"T_5b15b_level0_row11\" class=\"row_heading level0 row11\" >11</th>\n",
              "      <td id=\"T_5b15b_row11_col0\" class=\"data row11 col0\" >Target White Noise</td>\n",
              "      <td id=\"T_5b15b_row11_col1\" class=\"data row11 col1\" >No</td>\n",
              "    </tr>\n",
              "    <tr>\n",
              "      <th id=\"T_5b15b_level0_row12\" class=\"row_heading level0 row12\" >12</th>\n",
              "      <td id=\"T_5b15b_row12_col0\" class=\"data row12 col0\" >Recommended d</td>\n",
              "      <td id=\"T_5b15b_row12_col1\" class=\"data row12 col1\" >1</td>\n",
              "    </tr>\n",
              "    <tr>\n",
              "      <th id=\"T_5b15b_level0_row13\" class=\"row_heading level0 row13\" >13</th>\n",
              "      <td id=\"T_5b15b_row13_col0\" class=\"data row13 col0\" >Recommended Seasonal D</td>\n",
              "      <td id=\"T_5b15b_row13_col1\" class=\"data row13 col1\" >1</td>\n",
              "    </tr>\n",
              "    <tr>\n",
              "      <th id=\"T_5b15b_level0_row14\" class=\"row_heading level0 row14\" >14</th>\n",
              "      <td id=\"T_5b15b_row14_col0\" class=\"data row14 col0\" >CPU Jobs</td>\n",
              "      <td id=\"T_5b15b_row14_col1\" class=\"data row14 col1\" >-1</td>\n",
              "    </tr>\n",
              "    <tr>\n",
              "      <th id=\"T_5b15b_level0_row15\" class=\"row_heading level0 row15\" >15</th>\n",
              "      <td id=\"T_5b15b_row15_col0\" class=\"data row15 col0\" >Use GPU</td>\n",
              "      <td id=\"T_5b15b_row15_col1\" class=\"data row15 col1\" >False</td>\n",
              "    </tr>\n",
              "    <tr>\n",
              "      <th id=\"T_5b15b_level0_row16\" class=\"row_heading level0 row16\" >16</th>\n",
              "      <td id=\"T_5b15b_row16_col0\" class=\"data row16 col0\" >Log Experiment</td>\n",
              "      <td id=\"T_5b15b_row16_col1\" class=\"data row16 col1\" >True</td>\n",
              "    </tr>\n",
              "    <tr>\n",
              "      <th id=\"T_5b15b_level0_row17\" class=\"row_heading level0 row17\" >17</th>\n",
              "      <td id=\"T_5b15b_row17_col0\" class=\"data row17 col0\" >Experiment Name</td>\n",
              "      <td id=\"T_5b15b_row17_col1\" class=\"data row17 col1\" >my_exp_with_plots</td>\n",
              "    </tr>\n",
              "    <tr>\n",
              "      <th id=\"T_5b15b_level0_row18\" class=\"row_heading level0 row18\" >18</th>\n",
              "      <td id=\"T_5b15b_row18_col0\" class=\"data row18 col0\" >USI</td>\n",
              "      <td id=\"T_5b15b_row18_col1\" class=\"data row18 col1\" >fa3d</td>\n",
              "    </tr>\n",
              "    <tr>\n",
              "      <th id=\"T_5b15b_level0_row19\" class=\"row_heading level0 row19\" >19</th>\n",
              "      <td id=\"T_5b15b_row19_col0\" class=\"data row19 col0\" >Imputation Type</td>\n",
              "      <td id=\"T_5b15b_row19_col1\" class=\"data row19 col1\" >simple</td>\n",
              "    </tr>\n",
              "  </tbody>\n",
              "</table>\n"
            ],
            "text/plain": [
              "<pandas.io.formats.style.Styler at 0x1ebd2430550>"
            ]
          },
          "metadata": {},
          "output_type": "display_data"
        },
        {
          "data": {
            "text/plain": [
              "<pycaret.internal.pycaret_experiment.time_series_experiment.TimeSeriesExperiment at 0x1ebfb13bc70>"
            ]
          },
          "execution_count": 9,
          "metadata": {},
          "output_type": "execute_result"
        }
      ],
      "source": [
        "#### Setup experiment with MLFlow logging ----\n",
        "#### This time, also enable logging of (default) plots ----\n",
        "exp.setup(\n",
        "    data=y,\n",
        "    fh=12,\n",
        "    session_id=42,\n",
        "    log_experiment=True,\n",
        "    experiment_name=\"my_exp_with_plots\",\n",
        "    log_plots=True\n",
        "  )"
      ]
    },
    {
      "cell_type": "code",
      "execution_count": 10,
      "metadata": {},
      "outputs": [
        {
          "data": {
            "text/html": [
              "<style type=\"text/css\">\n",
              "#T_5e17b_row3_col0, #T_5e17b_row3_col1, #T_5e17b_row3_col2, #T_5e17b_row3_col3, #T_5e17b_row3_col4, #T_5e17b_row3_col5 {\n",
              "  background: yellow;\n",
              "}\n",
              "</style>\n",
              "<table id=\"T_5e17b_\">\n",
              "  <thead>\n",
              "    <tr>\n",
              "      <th class=\"blank level0\" >&nbsp;</th>\n",
              "      <th class=\"col_heading level0 col0\" >cutoff</th>\n",
              "      <th class=\"col_heading level0 col1\" >MAE</th>\n",
              "      <th class=\"col_heading level0 col2\" >RMSE</th>\n",
              "      <th class=\"col_heading level0 col3\" >MAPE</th>\n",
              "      <th class=\"col_heading level0 col4\" >SMAPE</th>\n",
              "      <th class=\"col_heading level0 col5\" >R2</th>\n",
              "    </tr>\n",
              "  </thead>\n",
              "  <tbody>\n",
              "    <tr>\n",
              "      <th id=\"T_5e17b_level0_row0\" class=\"row_heading level0 row0\" >0</th>\n",
              "      <td id=\"T_5e17b_row0_col0\" class=\"data row0 col0\" >1956-12</td>\n",
              "      <td id=\"T_5e17b_row0_col1\" class=\"data row0 col1\" >38.6824</td>\n",
              "      <td id=\"T_5e17b_row0_col2\" class=\"data row0 col2\" >45.0820</td>\n",
              "      <td id=\"T_5e17b_row0_col3\" class=\"data row0 col3\" >0.0998</td>\n",
              "      <td id=\"T_5e17b_row0_col4\" class=\"data row0 col4\" >0.1051</td>\n",
              "      <td id=\"T_5e17b_row0_col5\" class=\"data row0 col5\" >0.3384</td>\n",
              "    </tr>\n",
              "    <tr>\n",
              "      <th id=\"T_5e17b_level0_row1\" class=\"row_heading level0 row1\" >1</th>\n",
              "      <td id=\"T_5e17b_row1_col0\" class=\"data row1 col0\" >1957-12</td>\n",
              "      <td id=\"T_5e17b_row1_col1\" class=\"data row1 col1\" >28.0608</td>\n",
              "      <td id=\"T_5e17b_row1_col2\" class=\"data row1 col2\" >34.6867</td>\n",
              "      <td id=\"T_5e17b_row1_col3\" class=\"data row1 col3\" >0.0751</td>\n",
              "      <td id=\"T_5e17b_row1_col4\" class=\"data row1 col4\" >0.0734</td>\n",
              "      <td id=\"T_5e17b_row1_col5\" class=\"data row1 col5\" >0.6848</td>\n",
              "    </tr>\n",
              "    <tr>\n",
              "      <th id=\"T_5e17b_level0_row2\" class=\"row_heading level0 row2\" >2</th>\n",
              "      <td id=\"T_5e17b_row2_col0\" class=\"data row2 col0\" >1958-12</td>\n",
              "      <td id=\"T_5e17b_row2_col1\" class=\"data row2 col1\" >32.1693</td>\n",
              "      <td id=\"T_5e17b_row2_col2\" class=\"data row2 col2\" >38.2681</td>\n",
              "      <td id=\"T_5e17b_row2_col3\" class=\"data row2 col3\" >0.0737</td>\n",
              "      <td id=\"T_5e17b_row2_col4\" class=\"data row2 col4\" >0.0753</td>\n",
              "      <td id=\"T_5e17b_row2_col5\" class=\"data row2 col5\" >0.6724</td>\n",
              "    </tr>\n",
              "    <tr>\n",
              "      <th id=\"T_5e17b_level0_row3\" class=\"row_heading level0 row3\" >Mean</th>\n",
              "      <td id=\"T_5e17b_row3_col0\" class=\"data row3 col0\" >NaT</td>\n",
              "      <td id=\"T_5e17b_row3_col1\" class=\"data row3 col1\" >32.9708</td>\n",
              "      <td id=\"T_5e17b_row3_col2\" class=\"data row3 col2\" >39.3456</td>\n",
              "      <td id=\"T_5e17b_row3_col3\" class=\"data row3 col3\" >0.0828</td>\n",
              "      <td id=\"T_5e17b_row3_col4\" class=\"data row3 col4\" >0.0846</td>\n",
              "      <td id=\"T_5e17b_row3_col5\" class=\"data row3 col5\" >0.5652</td>\n",
              "    </tr>\n",
              "    <tr>\n",
              "      <th id=\"T_5e17b_level0_row4\" class=\"row_heading level0 row4\" >SD</th>\n",
              "      <td id=\"T_5e17b_row4_col0\" class=\"data row4 col0\" >NaT</td>\n",
              "      <td id=\"T_5e17b_row4_col1\" class=\"data row4 col1\" >4.3731</td>\n",
              "      <td id=\"T_5e17b_row4_col2\" class=\"data row4 col2\" >4.3117</td>\n",
              "      <td id=\"T_5e17b_row4_col3\" class=\"data row4 col3\" >0.0120</td>\n",
              "      <td id=\"T_5e17b_row4_col4\" class=\"data row4 col4\" >0.0145</td>\n",
              "      <td id=\"T_5e17b_row4_col5\" class=\"data row4 col5\" >0.1604</td>\n",
              "    </tr>\n",
              "  </tbody>\n",
              "</table>\n"
            ],
            "text/plain": [
              "<pandas.io.formats.style.Styler at 0x1ebfb157760>"
            ]
          },
          "metadata": {},
          "output_type": "display_data"
        }
      ],
      "source": [
        "model = exp.create_model(\"lr_cds_dt\")"
      ]
    },
    {
      "cell_type": "markdown",
      "metadata": {},
      "source": [
        "## ML Flow Logging with Custom Plots"
      ]
    },
    {
      "cell_type": "code",
      "execution_count": 11,
      "metadata": {
        "id": "9FGNU-UMPQ-h"
      },
      "outputs": [
        {
          "data": {
            "text/html": [
              "<style type=\"text/css\">\n",
              "#T_eee31_row9_col1, #T_eee31_row10_col1, #T_eee31_row12_col1, #T_eee31_row13_col1, #T_eee31_row16_col1 {\n",
              "  background-color: lightgreen;\n",
              "}\n",
              "</style>\n",
              "<table id=\"T_eee31_\">\n",
              "  <thead>\n",
              "    <tr>\n",
              "      <th class=\"blank level0\" >&nbsp;</th>\n",
              "      <th class=\"col_heading level0 col0\" >Description</th>\n",
              "      <th class=\"col_heading level0 col1\" >Value</th>\n",
              "    </tr>\n",
              "  </thead>\n",
              "  <tbody>\n",
              "    <tr>\n",
              "      <th id=\"T_eee31_level0_row0\" class=\"row_heading level0 row0\" >0</th>\n",
              "      <td id=\"T_eee31_row0_col0\" class=\"data row0 col0\" >session_id</td>\n",
              "      <td id=\"T_eee31_row0_col1\" class=\"data row0 col1\" >42</td>\n",
              "    </tr>\n",
              "    <tr>\n",
              "      <th id=\"T_eee31_level0_row1\" class=\"row_heading level0 row1\" >1</th>\n",
              "      <td id=\"T_eee31_row1_col0\" class=\"data row1 col0\" >Original Data</td>\n",
              "      <td id=\"T_eee31_row1_col1\" class=\"data row1 col1\" >(144, 1)</td>\n",
              "    </tr>\n",
              "    <tr>\n",
              "      <th id=\"T_eee31_level0_row2\" class=\"row_heading level0 row2\" >2</th>\n",
              "      <td id=\"T_eee31_row2_col0\" class=\"data row2 col0\" >Missing Values</td>\n",
              "      <td id=\"T_eee31_row2_col1\" class=\"data row2 col1\" >False</td>\n",
              "    </tr>\n",
              "    <tr>\n",
              "      <th id=\"T_eee31_level0_row3\" class=\"row_heading level0 row3\" >3</th>\n",
              "      <td id=\"T_eee31_row3_col0\" class=\"data row3 col0\" >Transformed Train Set</td>\n",
              "      <td id=\"T_eee31_row3_col1\" class=\"data row3 col1\" >(132,)</td>\n",
              "    </tr>\n",
              "    <tr>\n",
              "      <th id=\"T_eee31_level0_row4\" class=\"row_heading level0 row4\" >4</th>\n",
              "      <td id=\"T_eee31_row4_col0\" class=\"data row4 col0\" >Transformed Test Set</td>\n",
              "      <td id=\"T_eee31_row4_col1\" class=\"data row4 col1\" >(12,)</td>\n",
              "    </tr>\n",
              "    <tr>\n",
              "      <th id=\"T_eee31_level0_row5\" class=\"row_heading level0 row5\" >5</th>\n",
              "      <td id=\"T_eee31_row5_col0\" class=\"data row5 col0\" >Fold Generator</td>\n",
              "      <td id=\"T_eee31_row5_col1\" class=\"data row5 col1\" >ExpandingWindowSplitter</td>\n",
              "    </tr>\n",
              "    <tr>\n",
              "      <th id=\"T_eee31_level0_row6\" class=\"row_heading level0 row6\" >6</th>\n",
              "      <td id=\"T_eee31_row6_col0\" class=\"data row6 col0\" >Fold Number</td>\n",
              "      <td id=\"T_eee31_row6_col1\" class=\"data row6 col1\" >3</td>\n",
              "    </tr>\n",
              "    <tr>\n",
              "      <th id=\"T_eee31_level0_row7\" class=\"row_heading level0 row7\" >7</th>\n",
              "      <td id=\"T_eee31_row7_col0\" class=\"data row7 col0\" >Enforce Prediction Interval</td>\n",
              "      <td id=\"T_eee31_row7_col1\" class=\"data row7 col1\" >False</td>\n",
              "    </tr>\n",
              "    <tr>\n",
              "      <th id=\"T_eee31_level0_row8\" class=\"row_heading level0 row8\" >8</th>\n",
              "      <td id=\"T_eee31_row8_col0\" class=\"data row8 col0\" >Seasonal Period Tested</td>\n",
              "      <td id=\"T_eee31_row8_col1\" class=\"data row8 col1\" >12</td>\n",
              "    </tr>\n",
              "    <tr>\n",
              "      <th id=\"T_eee31_level0_row9\" class=\"row_heading level0 row9\" >9</th>\n",
              "      <td id=\"T_eee31_row9_col0\" class=\"data row9 col0\" >Seasonality Detected</td>\n",
              "      <td id=\"T_eee31_row9_col1\" class=\"data row9 col1\" >True</td>\n",
              "    </tr>\n",
              "    <tr>\n",
              "      <th id=\"T_eee31_level0_row10\" class=\"row_heading level0 row10\" >10</th>\n",
              "      <td id=\"T_eee31_row10_col0\" class=\"data row10 col0\" >Target Strictly Positive</td>\n",
              "      <td id=\"T_eee31_row10_col1\" class=\"data row10 col1\" >True</td>\n",
              "    </tr>\n",
              "    <tr>\n",
              "      <th id=\"T_eee31_level0_row11\" class=\"row_heading level0 row11\" >11</th>\n",
              "      <td id=\"T_eee31_row11_col0\" class=\"data row11 col0\" >Target White Noise</td>\n",
              "      <td id=\"T_eee31_row11_col1\" class=\"data row11 col1\" >No</td>\n",
              "    </tr>\n",
              "    <tr>\n",
              "      <th id=\"T_eee31_level0_row12\" class=\"row_heading level0 row12\" >12</th>\n",
              "      <td id=\"T_eee31_row12_col0\" class=\"data row12 col0\" >Recommended d</td>\n",
              "      <td id=\"T_eee31_row12_col1\" class=\"data row12 col1\" >1</td>\n",
              "    </tr>\n",
              "    <tr>\n",
              "      <th id=\"T_eee31_level0_row13\" class=\"row_heading level0 row13\" >13</th>\n",
              "      <td id=\"T_eee31_row13_col0\" class=\"data row13 col0\" >Recommended Seasonal D</td>\n",
              "      <td id=\"T_eee31_row13_col1\" class=\"data row13 col1\" >1</td>\n",
              "    </tr>\n",
              "    <tr>\n",
              "      <th id=\"T_eee31_level0_row14\" class=\"row_heading level0 row14\" >14</th>\n",
              "      <td id=\"T_eee31_row14_col0\" class=\"data row14 col0\" >CPU Jobs</td>\n",
              "      <td id=\"T_eee31_row14_col1\" class=\"data row14 col1\" >-1</td>\n",
              "    </tr>\n",
              "    <tr>\n",
              "      <th id=\"T_eee31_level0_row15\" class=\"row_heading level0 row15\" >15</th>\n",
              "      <td id=\"T_eee31_row15_col0\" class=\"data row15 col0\" >Use GPU</td>\n",
              "      <td id=\"T_eee31_row15_col1\" class=\"data row15 col1\" >False</td>\n",
              "    </tr>\n",
              "    <tr>\n",
              "      <th id=\"T_eee31_level0_row16\" class=\"row_heading level0 row16\" >16</th>\n",
              "      <td id=\"T_eee31_row16_col0\" class=\"data row16 col0\" >Log Experiment</td>\n",
              "      <td id=\"T_eee31_row16_col1\" class=\"data row16 col1\" >True</td>\n",
              "    </tr>\n",
              "    <tr>\n",
              "      <th id=\"T_eee31_level0_row17\" class=\"row_heading level0 row17\" >17</th>\n",
              "      <td id=\"T_eee31_row17_col0\" class=\"data row17 col0\" >Experiment Name</td>\n",
              "      <td id=\"T_eee31_row17_col1\" class=\"data row17 col1\" >my_exp_with_custom</td>\n",
              "    </tr>\n",
              "    <tr>\n",
              "      <th id=\"T_eee31_level0_row18\" class=\"row_heading level0 row18\" >18</th>\n",
              "      <td id=\"T_eee31_row18_col0\" class=\"data row18 col0\" >USI</td>\n",
              "      <td id=\"T_eee31_row18_col1\" class=\"data row18 col1\" >dcf3</td>\n",
              "    </tr>\n",
              "    <tr>\n",
              "      <th id=\"T_eee31_level0_row19\" class=\"row_heading level0 row19\" >19</th>\n",
              "      <td id=\"T_eee31_row19_col0\" class=\"data row19 col0\" >Imputation Type</td>\n",
              "      <td id=\"T_eee31_row19_col1\" class=\"data row19 col1\" >simple</td>\n",
              "    </tr>\n",
              "  </tbody>\n",
              "</table>\n"
            ],
            "text/plain": [
              "<pandas.io.formats.style.Styler at 0x1ebd4866250>"
            ]
          },
          "metadata": {},
          "output_type": "display_data"
        },
        {
          "data": {
            "text/plain": [
              "<pycaret.internal.pycaret_experiment.time_series_experiment.TimeSeriesExperiment at 0x1ebfb13bc70>"
            ]
          },
          "execution_count": 11,
          "metadata": {},
          "output_type": "execute_result"
        }
      ],
      "source": [
        "#### Setup experiment with MLFlow logging ----\n",
        "#### This time, also enable logging of plots (custom) ----\n",
        "exp.setup(\n",
        "    data=y,\n",
        "    fh=12,\n",
        "    session_id=42,\n",
        "    log_experiment=True,\n",
        "    experiment_name=\"my_exp_with_custom\",\n",
        "    log_plots=[\"ts\", \"train_test_split\", \"cv\", \"forecast\"]\n",
        "  )"
      ]
    },
    {
      "cell_type": "code",
      "execution_count": 12,
      "metadata": {},
      "outputs": [
        {
          "data": {
            "text/html": [
              "<style type=\"text/css\">\n",
              "#T_e9e64_row3_col0, #T_e9e64_row3_col1, #T_e9e64_row3_col2, #T_e9e64_row3_col3, #T_e9e64_row3_col4, #T_e9e64_row3_col5 {\n",
              "  background: yellow;\n",
              "}\n",
              "</style>\n",
              "<table id=\"T_e9e64_\">\n",
              "  <thead>\n",
              "    <tr>\n",
              "      <th class=\"blank level0\" >&nbsp;</th>\n",
              "      <th class=\"col_heading level0 col0\" >cutoff</th>\n",
              "      <th class=\"col_heading level0 col1\" >MAE</th>\n",
              "      <th class=\"col_heading level0 col2\" >RMSE</th>\n",
              "      <th class=\"col_heading level0 col3\" >MAPE</th>\n",
              "      <th class=\"col_heading level0 col4\" >SMAPE</th>\n",
              "      <th class=\"col_heading level0 col5\" >R2</th>\n",
              "    </tr>\n",
              "  </thead>\n",
              "  <tbody>\n",
              "    <tr>\n",
              "      <th id=\"T_e9e64_level0_row0\" class=\"row_heading level0 row0\" >0</th>\n",
              "      <td id=\"T_e9e64_row0_col0\" class=\"data row0 col0\" >1956-12</td>\n",
              "      <td id=\"T_e9e64_row0_col1\" class=\"data row0 col1\" >38.6824</td>\n",
              "      <td id=\"T_e9e64_row0_col2\" class=\"data row0 col2\" >45.0820</td>\n",
              "      <td id=\"T_e9e64_row0_col3\" class=\"data row0 col3\" >0.0998</td>\n",
              "      <td id=\"T_e9e64_row0_col4\" class=\"data row0 col4\" >0.1051</td>\n",
              "      <td id=\"T_e9e64_row0_col5\" class=\"data row0 col5\" >0.3384</td>\n",
              "    </tr>\n",
              "    <tr>\n",
              "      <th id=\"T_e9e64_level0_row1\" class=\"row_heading level0 row1\" >1</th>\n",
              "      <td id=\"T_e9e64_row1_col0\" class=\"data row1 col0\" >1957-12</td>\n",
              "      <td id=\"T_e9e64_row1_col1\" class=\"data row1 col1\" >28.0608</td>\n",
              "      <td id=\"T_e9e64_row1_col2\" class=\"data row1 col2\" >34.6867</td>\n",
              "      <td id=\"T_e9e64_row1_col3\" class=\"data row1 col3\" >0.0751</td>\n",
              "      <td id=\"T_e9e64_row1_col4\" class=\"data row1 col4\" >0.0734</td>\n",
              "      <td id=\"T_e9e64_row1_col5\" class=\"data row1 col5\" >0.6848</td>\n",
              "    </tr>\n",
              "    <tr>\n",
              "      <th id=\"T_e9e64_level0_row2\" class=\"row_heading level0 row2\" >2</th>\n",
              "      <td id=\"T_e9e64_row2_col0\" class=\"data row2 col0\" >1958-12</td>\n",
              "      <td id=\"T_e9e64_row2_col1\" class=\"data row2 col1\" >32.1693</td>\n",
              "      <td id=\"T_e9e64_row2_col2\" class=\"data row2 col2\" >38.2681</td>\n",
              "      <td id=\"T_e9e64_row2_col3\" class=\"data row2 col3\" >0.0737</td>\n",
              "      <td id=\"T_e9e64_row2_col4\" class=\"data row2 col4\" >0.0753</td>\n",
              "      <td id=\"T_e9e64_row2_col5\" class=\"data row2 col5\" >0.6724</td>\n",
              "    </tr>\n",
              "    <tr>\n",
              "      <th id=\"T_e9e64_level0_row3\" class=\"row_heading level0 row3\" >Mean</th>\n",
              "      <td id=\"T_e9e64_row3_col0\" class=\"data row3 col0\" >NaT</td>\n",
              "      <td id=\"T_e9e64_row3_col1\" class=\"data row3 col1\" >32.9708</td>\n",
              "      <td id=\"T_e9e64_row3_col2\" class=\"data row3 col2\" >39.3456</td>\n",
              "      <td id=\"T_e9e64_row3_col3\" class=\"data row3 col3\" >0.0828</td>\n",
              "      <td id=\"T_e9e64_row3_col4\" class=\"data row3 col4\" >0.0846</td>\n",
              "      <td id=\"T_e9e64_row3_col5\" class=\"data row3 col5\" >0.5652</td>\n",
              "    </tr>\n",
              "    <tr>\n",
              "      <th id=\"T_e9e64_level0_row4\" class=\"row_heading level0 row4\" >SD</th>\n",
              "      <td id=\"T_e9e64_row4_col0\" class=\"data row4 col0\" >NaT</td>\n",
              "      <td id=\"T_e9e64_row4_col1\" class=\"data row4 col1\" >4.3731</td>\n",
              "      <td id=\"T_e9e64_row4_col2\" class=\"data row4 col2\" >4.3117</td>\n",
              "      <td id=\"T_e9e64_row4_col3\" class=\"data row4 col3\" >0.0120</td>\n",
              "      <td id=\"T_e9e64_row4_col4\" class=\"data row4 col4\" >0.0145</td>\n",
              "      <td id=\"T_e9e64_row4_col5\" class=\"data row4 col5\" >0.1604</td>\n",
              "    </tr>\n",
              "  </tbody>\n",
              "</table>\n"
            ],
            "text/plain": [
              "<pandas.io.formats.style.Styler at 0x1ebd4866550>"
            ]
          },
          "metadata": {},
          "output_type": "display_data"
        }
      ],
      "source": [
        "model = exp.create_model(\"lr_cds_dt\")"
      ]
    }
  ],
  "metadata": {
    "colab": {
      "authorship_tag": "ABX9TyPJtFfOYN4T4R5Hlb5eAION",
      "name": "Copy of Untitled0.ipynb",
      "provenance": []
    },
    "kernelspec": {
      "display_name": "Python 3",
      "name": "python3"
    },
    "language_info": {
      "codemirror_mode": {
        "name": "ipython",
        "version": 3
      },
      "file_extension": ".py",
      "mimetype": "text/x-python",
      "name": "python",
      "nbconvert_exporter": "python",
      "pygments_lexer": "ipython3",
      "version": "3.8.12"
    },
    "widgets": {
      "application/vnd.jupyter.widget-state+json": {
        "52a6cd0b2d6e47da8f6380c71a2da659": {
          "model_module": "@jupyter-widgets/controls",
          "model_module_version": "1.5.0",
          "model_name": "IntProgressModel",
          "state": {
            "_dom_classes": [],
            "_model_module": "@jupyter-widgets/controls",
            "_model_module_version": "1.5.0",
            "_model_name": "IntProgressModel",
            "_view_count": null,
            "_view_module": "@jupyter-widgets/controls",
            "_view_module_version": "1.5.0",
            "_view_name": "ProgressView",
            "bar_style": "",
            "description": "Processing: ",
            "description_tooltip": null,
            "layout": "IPY_MODEL_cd34c156684747b19010fd4d4f41fd3a",
            "max": 139,
            "min": 0,
            "orientation": "horizontal",
            "style": "IPY_MODEL_5c2aac9ff2a34991a13c8be699b301a7",
            "value": 134
          }
        },
        "5c2aac9ff2a34991a13c8be699b301a7": {
          "model_module": "@jupyter-widgets/controls",
          "model_module_version": "1.5.0",
          "model_name": "ProgressStyleModel",
          "state": {
            "_model_module": "@jupyter-widgets/controls",
            "_model_module_version": "1.5.0",
            "_model_name": "ProgressStyleModel",
            "_view_count": null,
            "_view_module": "@jupyter-widgets/base",
            "_view_module_version": "1.2.0",
            "_view_name": "StyleView",
            "bar_color": null,
            "description_width": ""
          }
        },
        "623796bf3be44d30bc93902db1f4d71c": {
          "model_module": "@jupyter-widgets/controls",
          "model_module_version": "1.5.0",
          "model_name": "IntProgressModel",
          "state": {
            "_dom_classes": [],
            "_model_module": "@jupyter-widgets/controls",
            "_model_module_version": "1.5.0",
            "_model_name": "IntProgressModel",
            "_view_count": null,
            "_view_module": "@jupyter-widgets/controls",
            "_view_module_version": "1.5.0",
            "_view_name": "ProgressView",
            "bar_style": "",
            "description": "Processing: ",
            "description_tooltip": null,
            "layout": "IPY_MODEL_afd85029fd804d7ba2fd3731f3bed4b6",
            "max": 4,
            "min": 0,
            "orientation": "horizontal",
            "style": "IPY_MODEL_9edd650654f8454e9e166bf49434db30",
            "value": 4
          }
        },
        "6b98328c45b14636bfeea7eae5c579f4": {
          "model_module": "@jupyter-widgets/controls",
          "model_module_version": "1.5.0",
          "model_name": "ProgressStyleModel",
          "state": {
            "_model_module": "@jupyter-widgets/controls",
            "_model_module_version": "1.5.0",
            "_model_name": "ProgressStyleModel",
            "_view_count": null,
            "_view_module": "@jupyter-widgets/base",
            "_view_module_version": "1.2.0",
            "_view_name": "StyleView",
            "bar_color": null,
            "description_width": ""
          }
        },
        "82c6e8188aa64af49694b5cdb62f5f1a": {
          "model_module": "@jupyter-widgets/base",
          "model_module_version": "1.2.0",
          "model_name": "LayoutModel",
          "state": {
            "_model_module": "@jupyter-widgets/base",
            "_model_module_version": "1.2.0",
            "_model_name": "LayoutModel",
            "_view_count": null,
            "_view_module": "@jupyter-widgets/base",
            "_view_module_version": "1.2.0",
            "_view_name": "LayoutView",
            "align_content": null,
            "align_items": null,
            "align_self": null,
            "border": null,
            "bottom": null,
            "display": null,
            "flex": null,
            "flex_flow": null,
            "grid_area": null,
            "grid_auto_columns": null,
            "grid_auto_flow": null,
            "grid_auto_rows": null,
            "grid_column": null,
            "grid_gap": null,
            "grid_row": null,
            "grid_template_areas": null,
            "grid_template_columns": null,
            "grid_template_rows": null,
            "height": null,
            "justify_content": null,
            "justify_items": null,
            "left": null,
            "margin": null,
            "max_height": null,
            "max_width": null,
            "min_height": null,
            "min_width": null,
            "object_fit": null,
            "object_position": null,
            "order": null,
            "overflow": null,
            "overflow_x": null,
            "overflow_y": null,
            "padding": null,
            "right": null,
            "top": null,
            "visibility": null,
            "width": null
          }
        },
        "9edd650654f8454e9e166bf49434db30": {
          "model_module": "@jupyter-widgets/controls",
          "model_module_version": "1.5.0",
          "model_name": "ProgressStyleModel",
          "state": {
            "_model_module": "@jupyter-widgets/controls",
            "_model_module_version": "1.5.0",
            "_model_name": "ProgressStyleModel",
            "_view_count": null,
            "_view_module": "@jupyter-widgets/base",
            "_view_module_version": "1.2.0",
            "_view_name": "StyleView",
            "bar_color": null,
            "description_width": ""
          }
        },
        "afd85029fd804d7ba2fd3731f3bed4b6": {
          "model_module": "@jupyter-widgets/base",
          "model_module_version": "1.2.0",
          "model_name": "LayoutModel",
          "state": {
            "_model_module": "@jupyter-widgets/base",
            "_model_module_version": "1.2.0",
            "_model_name": "LayoutModel",
            "_view_count": null,
            "_view_module": "@jupyter-widgets/base",
            "_view_module_version": "1.2.0",
            "_view_name": "LayoutView",
            "align_content": null,
            "align_items": null,
            "align_self": null,
            "border": null,
            "bottom": null,
            "display": null,
            "flex": null,
            "flex_flow": null,
            "grid_area": null,
            "grid_auto_columns": null,
            "grid_auto_flow": null,
            "grid_auto_rows": null,
            "grid_column": null,
            "grid_gap": null,
            "grid_row": null,
            "grid_template_areas": null,
            "grid_template_columns": null,
            "grid_template_rows": null,
            "height": null,
            "justify_content": null,
            "justify_items": null,
            "left": null,
            "margin": null,
            "max_height": null,
            "max_width": null,
            "min_height": null,
            "min_width": null,
            "object_fit": null,
            "object_position": null,
            "order": null,
            "overflow": null,
            "overflow_x": null,
            "overflow_y": null,
            "padding": null,
            "right": null,
            "top": null,
            "visibility": null,
            "width": null
          }
        },
        "cd34c156684747b19010fd4d4f41fd3a": {
          "model_module": "@jupyter-widgets/base",
          "model_module_version": "1.2.0",
          "model_name": "LayoutModel",
          "state": {
            "_model_module": "@jupyter-widgets/base",
            "_model_module_version": "1.2.0",
            "_model_name": "LayoutModel",
            "_view_count": null,
            "_view_module": "@jupyter-widgets/base",
            "_view_module_version": "1.2.0",
            "_view_name": "LayoutView",
            "align_content": null,
            "align_items": null,
            "align_self": null,
            "border": null,
            "bottom": null,
            "display": null,
            "flex": null,
            "flex_flow": null,
            "grid_area": null,
            "grid_auto_columns": null,
            "grid_auto_flow": null,
            "grid_auto_rows": null,
            "grid_column": null,
            "grid_gap": null,
            "grid_row": null,
            "grid_template_areas": null,
            "grid_template_columns": null,
            "grid_template_rows": null,
            "height": null,
            "justify_content": null,
            "justify_items": null,
            "left": null,
            "margin": null,
            "max_height": null,
            "max_width": null,
            "min_height": null,
            "min_width": null,
            "object_fit": null,
            "object_position": null,
            "order": null,
            "overflow": null,
            "overflow_x": null,
            "overflow_y": null,
            "padding": null,
            "right": null,
            "top": null,
            "visibility": null,
            "width": null
          }
        },
        "eae4f4129e924fe3be54af7d5ad744fa": {
          "model_module": "@jupyter-widgets/controls",
          "model_module_version": "1.5.0",
          "model_name": "IntProgressModel",
          "state": {
            "_dom_classes": [],
            "_model_module": "@jupyter-widgets/controls",
            "_model_module_version": "1.5.0",
            "_model_name": "IntProgressModel",
            "_view_count": null,
            "_view_module": "@jupyter-widgets/controls",
            "_view_module_version": "1.5.0",
            "_view_name": "ProgressView",
            "bar_style": "",
            "description": "Processing: ",
            "description_tooltip": null,
            "layout": "IPY_MODEL_82c6e8188aa64af49694b5cdb62f5f1a",
            "max": 3,
            "min": 0,
            "orientation": "horizontal",
            "style": "IPY_MODEL_6b98328c45b14636bfeea7eae5c579f4",
            "value": 3
          }
        }
      }
    }
  },
  "nbformat": 4,
  "nbformat_minor": 0
}
